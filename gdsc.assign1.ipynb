{
 "cells": [
  {
   "cell_type": "code",
   "execution_count": 2,
   "id": "33b3fbc8-b19c-412f-8cce-a7982cdd0fc0",
   "metadata": {},
   "outputs": [
    {
     "name": "stdout",
     "output_type": "stream",
     "text": [
      "hello world\n"
     ]
    }
   ],
   "source": [
    "print (\"hello world\")"
   ]
  },
  {
   "cell_type": "code",
   "execution_count": null,
   "id": "f51a7eec-a83f-4406-a5c9-1fb325c55815",
   "metadata": {},
   "outputs": [],
   "source": [
    "import numpy as np\n",
    "import pandas as pd\n",
    "from sklearn.model_selection import train_test_split\n",
    "from sklearn.metrics import accuracy_score, classification_report\n",
    "import matplotlib.pyplot as plt\n",
    "\n",
    "# Load your dataset (replace 'your_data.csv' with the actual file path or URL)\n",
    "data = pd.read_csv(\"C:\\Users\\meher\\OneDrive\\Desktop\\train (1).csv\")\n",
    "data2= pd.read_csv(\"C:\\Users\\meher\\OneDrive\\Desktop\\test (1).csv\")\n",
    "# Assume the target variable is named 'lifeboat' in your dataset\n",
    "X_train = data.drop('Survived', axis=1).values  # Features\n",
    "y = data['Survived'].values  # Target variable\n",
    "\n",
    "X_test= data2.values\n",
    "\n",
    "# Normalize the data (optional but can be beneficial for logistic regression)\n",
    "X_train = (X_train - np.mean(X_train, axis=0)) / np.std(X_train, axis=0)\n",
    "X_test = (X_test - np.mean(X_test, axis=0)) / np.std(X_test, axis=0)\n",
    "\n",
    "# Add a bias term to the features\n",
    "X_train = np.c_[np.ones(X_train.shape[0]), X_train]\n",
    "X_test = np.c_[np.ones(X_test.shape[0]), X_test]\n",
    "\n",
    "# Define the sigmoid function\n",
    "def sigmoid(z):\n",
    "    return 1 / (1 + np.exp(-z))\n",
    "\n",
    "# Initialize weights\n",
    "theta = np.zeros(X_train.shape[1])\n",
    "\n",
    "# Define the cost function (binary cross-entropy)\n",
    "def cost_function(X, y, theta):\n",
    "    m = len(y)\n",
    "    h = sigmoid(np.dot(X, theta))\n",
    "    cost = -1 / m * np.sum(y * np.log(h) + (1 - y) * np.log(1 - h))\n",
    "    return cost\n",
    "\n",
    "# Define the gradient descent function\n",
    "def gradient_descent(X, y, theta, learning_rate, iterations):\n",
    "    m = len(y)\n",
    "    costs = []\n",
    "\n",
    "    for _ in range(iterations):\n",
    "        h = sigmoid(np.dot(X, theta))\n",
    "        gradient = np.dot(X.T, (h - y)) / m\n",
    "        theta -= learning_rate * gradient\n",
    "        cost = cost_function(X, y, theta)\n",
    "        costs.append(cost)\n",
    "\n",
    "    return theta, costs\n",
    "\n",
    "# Set hyperparameters\n",
    "learning_rate = 0.01\n",
    "iterations = 1000\n",
    "\n",
    "# Train the model\n",
    "theta, costs = gradient_descent(X_train, y, theta, learning_rate, iterations)\n",
    "\n",
    "# Plot the cost over iterations (optional)\n",
    "plt.plot(range(1, iterations + 1), costs, marker='o')\n",
    "plt.xlabel('Iterations')\n",
    "plt.ylabel('Cost')\n",
    "plt.title('Cost over Iterations')\n",
    "plt.show()\n",
    "\n",
    "# Make predictions on the test set\n",
    "y_pred_proba = sigmoid(np.dot(X_test, theta))\n",
    "y_pred = (y_pred_proba > 0.5).astype(int)\n",
    "\n",
    "\n"
   ]
  }
 ],
 "metadata": {
  "kernelspec": {
   "display_name": "Python 3 (ipykernel)",
   "language": "python",
   "name": "python3"
  },
  "language_info": {
   "codemirror_mode": {
    "name": "ipython",
    "version": 3
   },
   "file_extension": ".py",
   "mimetype": "text/x-python",
   "name": "python",
   "nbconvert_exporter": "python",
   "pygments_lexer": "ipython3",
   "version": "3.12.0"
  }
 },
 "nbformat": 4,
 "nbformat_minor": 5
}
